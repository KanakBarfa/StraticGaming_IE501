{
 "cells": [
  {
   "cell_type": "markdown",
   "metadata": {},
   "source": [
    "## Installation"
   ]
  },
  {
   "cell_type": "code",
   "execution_count": null,
   "metadata": {},
   "outputs": [],
   "source": [
    "%pip install -q pyomo\n",
    "!apt-get install coinor-cbc"
   ]
  },
  {
   "cell_type": "markdown",
   "metadata": {},
   "source": [
    "#### Initializing libraries and model"
   ]
  },
  {
   "cell_type": "code",
   "execution_count": null,
   "metadata": {},
   "outputs": [],
   "source": [
    "from pyomo.environ import *\n",
    "import math\n",
    "model=ConcreteModel()\n",
    "model.constraints=ConstraintList()"
   ]
  },
  {
   "cell_type": "markdown",
   "metadata": {},
   "source": [
    "Add initial variables here, like importing the game files, the rules, etc, which are constants,or decided by the game"
   ]
  },
  {
   "cell_type": "code",
   "execution_count": null,
   "metadata": {},
   "outputs": [],
   "source": [
    "n=1000                              #Number of match ticks\n",
    "E=[i for i in range (n)]            #Enemy strength for each attack tick\n",
    "T=500                               #Treasure required to reach victory\n",
    "V=[i for i in range(n)]             #Number of jobs in each match tick\n",
    "Cg=100                              #Amount of gold one can generate in each job for one job tick\n",
    "Cf=100                              #Amount of food one can generate in each job for one job tick\n",
    "Ct=100                              #Amount of treasure one can generate in each job for one job tick\n",
    "Tg=20                               #Amount of gold required to train one soldier\n",
    "Tf=17                               #Amount of food required to train one soldier\n",
    "M=1000000                           #The big M we will be using\n",
    "Wininc=100000                       #The army winning increase, needs to be optimized for better solution\n",
    "Str_Sol=72                          #Strength of one soldier"
   ]
  },
  {
   "cell_type": "markdown",
   "metadata": {},
   "source": [
    "#### Instruction for modelling\n",
    "Add variables by ``model.x=Var(range(_dimension_),domain=[_the domain of the variable_])``"
   ]
  },
  {
   "cell_type": "code",
   "execution_count": null,
   "metadata": {},
   "outputs": [],
   "source": [
    "model.food_in=Var(range(n), domain=NonNegativeIntegers)                 #Number of jobs allocated to food in each tick\n",
    "model.gold_in=Var(range(n),domain=NonNegativeIntegers)                  #Number of jobs allocated to gold in each tick\n",
    "model.treasure_in=Var(range(n),domain=NonNegativeIntegers)              #Number of jobs allocated to treasure in each tick\n",
    "model.total_gold=Var(range(n),domain=NonNegativeIntegers)               #Represents gold before ith attack {deducting all costs}\n",
    "model.total_food=Var(range(n),domain=NonNegativeIntegers)               #Represents food before ith attack {deducting all costs}\n",
    "model.total_treasure=Var(range(n),domain=NonNegativeIntegers)           #Represents treasure before ith attack {deducting all costs}\n",
    "model.train=Var(range(n),domain=NonNegativeIntegers)                    #Represents the number of soldiers trained before ith attack\n",
    "model.army=Var(range(n),domain=NonNegativeIntegers)                     #Represents the strength of total army before ith attack\n",
    "model.armyV=Var(range(n),domain=NonNegativeIntegers)                    #Represents the strength of total army after ith attack\n",
    "model.W=Var(range(n),domain=Binary)                                     #Represents binary which denotes whether won at or before ith attack or not\n",
    "model.r=Var(range(n),domain=[1.0000,0.8000,0.6667,0.5714,0.5000,0.3333,0.2000,0]) #Represents the  fraction of army which should survive"
   ]
  },
  {
   "cell_type": "markdown",
   "metadata": {},
   "source": [
    "Objective function"
   ]
  },
  {
   "cell_type": "code",
   "execution_count": null,
   "metadata": {},
   "outputs": [],
   "source": [
    "model.obj = Objective(expr = n-sum(model.W), sense = minimize)          #Gives the fastest possible win, collecting T amounts of treasure"
   ]
  },
  {
   "cell_type": "markdown",
   "metadata": {},
   "source": [
    "Add constraints by ``model.constraint.add(expr=...)``"
   ]
  },
  {
   "cell_type": "code",
   "execution_count": null,
   "metadata": {},
   "outputs": [],
   "source": [
    "for i in range(1,n):\n",
    "    model.constraints.add(expr=model.total_gold[i]==model.total_gold[i-1]+Cg*model.gold_in-Tg*model.train[i])\n",
    "    model.constraints.add(expr=model.total_food[i]==model.total_food[i-1]+Cf*model.food_in-Tf*model.train[i])\n",
    "    model.constraints.add(expr=model.total_treasure[i]==model.total_treasure[i-1]+Ct*model.treasure_in[i])\n",
    "    model.constraints.add(expr=model.army[i]==model.armyV[i-1]+Str_Sol*model.train[i]+Wininc*model.W[i])\n",
    "    model.constraints.add(expr=model.armyV[i]>=0)\n",
    "    model.constraints.add(expr=model.army[i]>=model.E[i])\n",
    "\n",
    "model.constraints.add(expr=model.total_treasure[0]==0)\n",
    "\n",
    "for i in range(n):\n",
    "    model.constraints.add(expr=model.total_gold[i]>=0)\n",
    "    model.constraints.add(expr=model.total_food[i]>=0)\n",
    "    model.constraints.add(expr=model.food_in[i]+model.gold_in[i]+model.treasure_in[i]==V[i])\n",
    "    model.constraints.add(expr=model.total_treasure[i]<=M*model.W[i]+T-1)\n",
    "    model.constraints.add(expr=model.total_treasure[i]>=-M*(1-model.W[i])+T-1)"
   ]
  },
  {
   "cell_type": "markdown",
   "metadata": {},
   "source": [
    "## Solver using CBC"
   ]
  },
  {
   "cell_type": "code",
   "execution_count": null,
   "metadata": {},
   "outputs": [],
   "source": [
    "opt = SolverFactory('cbc')\n",
    "result=opt.solve(model,tee=True)\n",
    "print('Solver status: ',result.solver.status)\n",
    "print('Solver termination condition: ',result.solver.termination_condition)"
   ]
  },
  {
   "cell_type": "code",
   "execution_count": null,
   "metadata": {},
   "outputs": [],
   "source": [
    "print('Optimal N',model.obj())"
   ]
  }
 ],
 "metadata": {
  "kernelspec": {
   "display_name": "Python 3",
   "language": "python",
   "name": "python3"
  },
  "language_info": {
   "codemirror_mode": {
    "name": "ipython",
    "version": 3
   },
   "file_extension": ".py",
   "mimetype": "text/x-python",
   "name": "python",
   "nbconvert_exporter": "python",
   "pygments_lexer": "ipython3",
   "version": "3.11.4"
  }
 },
 "nbformat": 4,
 "nbformat_minor": 2
}
